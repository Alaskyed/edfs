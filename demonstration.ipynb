{
 "cells": [
  {
   "cell_type": "markdown",
   "metadata": {},
   "source": [
    "# Midterm"
   ]
  },
  {
   "cell_type": "markdown",
   "metadata": {},
   "source": [
    "Until now, I have basically completed all the requirements in the project. The programme can run normally in the expected way. In this **Midterm** report, I will introduce and demonstrate all the work I have finished.\n",
    "\n",
    "I use Jupyter Notebook to introduce and run my project code. The output of each function will display under each code block."
   ]
  },
  {
   "cell_type": "markdown",
   "metadata": {},
   "source": [
    "## Project structure"
   ]
  },
  {
   "cell_type": "markdown",
   "metadata": {},
   "source": [
    "This is the constructure of this project:\n",
    "\n",
    "<img src=\"./imgs/project_structure.png\" alt=\"project_structure\">"
   ]
  },
  {
   "cell_type": "markdown",
   "metadata": {},
   "source": [
    "In `configs`, there are some config files (JSON format), which contain all the metadata of the project. There are 3 config files used currently:\n",
    "* __config__: cluster and node meta.\n",
    "* __directory__: the structure of the emulation-based distributed file system.\n",
    "* __files_meta__: each file information saved in the file system.\n"
   ]
  },
  {
   "cell_type": "markdown",
   "metadata": {},
   "source": [
    "`dataset` contain the datasets I used in this project for test and examples.\n",
    "* __owid-covid-data.csv__: the COVID-19 data from WHO.\n",
    "* __OxCGRT__: the COVID-19 patients information collected by the University of Oxford."
   ]
  },
  {
   "cell_type": "markdown",
   "metadata": {},
   "source": [
    "`DFS` represent the cluster file system. Every directory within this directory represents a DataNode for storage.\n",
    "\n",
    "`map` and `reduce` contain the programme of map and reduce.\n",
    "\n",
    "`edfs.py` contains the basic functions, and `edfs_operation.py` contains the function about user commands.\n",
    "\n",
    "`application.py` is the interactive function, which can let the user input some command to execute some tasks."
   ]
  },
  {
   "cell_type": "markdown",
   "metadata": {},
   "source": [
    "## Application (User interactive interface)"
   ]
  },
  {
   "cell_type": "markdown",
   "metadata": {},
   "source": [
    "In the current file system, I have completed all required command. In the interactive command, users can input `help` to see what command they can use."
   ]
  },
  {
   "cell_type": "code",
   "execution_count": 1,
   "metadata": {},
   "outputs": [],
   "source": [
    "# import the moduls for demonstration\n",
    "import application "
   ]
  },
  {
   "cell_type": "markdown",
   "metadata": {},
   "source": [
    "If use execute `application.py` in terminal, they will entrance the interactive interface. Then they can input some command. \n",
    "\n",
    "The terminal like this:\n",
    "\n",
    "<img src=\"./imgs/terminal.png\" alt=\"project_structure\">\n"
   ]
  },
  {
   "cell_type": "markdown",
   "metadata": {},
   "source": [
    "I use a loop in code to make sure users can input commands continuously:\n",
    "\n",
    "```python\n",
    "while not command == \"exit\":\n",
    "    command = input(\"Please input your command (input help for details): \\n\")\n",
    "    is_exist = judge_command(command_list, command)\n",
    "    if is_exist:\n",
    "        execute_command(command)\n",
    "    else:\n",
    "        print(\"Command dose not exist!\")\n",
    "```"
   ]
  },
  {
   "cell_type": "markdown",
   "metadata": {},
   "source": [
    "To display the intuitive result, I demonstrate all the function with __Jupyter Notebook__. In this case, I need to run the   `application.py` script every time, then input the command. I will annotate each command for each function."
   ]
  },
  {
   "cell_type": "markdown",
   "metadata": {},
   "source": [
    "## Emulation-based system"
   ]
  },
  {
   "cell_type": "markdown",
   "metadata": {},
   "source": [
    "* __help__\n",
    "\n",
    "Input `help` will print all the commands that users can execute."
   ]
  },
  {
   "cell_type": "code",
   "execution_count": 27,
   "metadata": {},
   "outputs": [
    {
     "name": "stdout",
     "output_type": "stream",
     "text": [
      "mkdir <dir path>\n",
      "ls <dir path>\n",
      "cat <file path>\n",
      "rm <file path>\n",
      "put <local file path> <file path>\n",
      "getPartitionLocations <file path> <partition>\n",
      "readPartition <file path> <partition>\n",
      "\n"
     ]
    }
   ],
   "source": [
    "%run application.py # Then input: help"
   ]
  },
  {
   "cell_type": "markdown",
   "metadata": {},
   "source": [
    "And if user input an error command, it will give a remind. For example, we input `mkdirsss /user/Mike/`:"
   ]
  },
  {
   "cell_type": "code",
   "execution_count": 29,
   "metadata": {},
   "outputs": [
    {
     "name": "stdout",
     "output_type": "stream",
     "text": [
      "Command dose not exist!\n"
     ]
    }
   ],
   "source": [
    "%run application.py # Then input: makedirs /user/Mike/"
   ]
  },
  {
   "cell_type": "markdown",
   "metadata": {},
   "source": [
    "* __mkdir__\n",
    "\n",
    "Use `mkdir /data/covid/test/` will create an dirctory in this path:"
   ]
  },
  {
   "cell_type": "code",
   "execution_count": 13,
   "metadata": {},
   "outputs": [
    {
     "name": "stdout",
     "output_type": "stream",
     "text": [
      "Create successfully!\n"
     ]
    }
   ],
   "source": [
    "%run application.py # Then input: mkdir /data/covid/test/"
   ]
  },
  {
   "cell_type": "markdown",
   "metadata": {},
   "source": [
    "If the path already exists, it will remind the user. Let's run the command `mkdir /data/covid/test/` again:"
   ]
  },
  {
   "cell_type": "code",
   "execution_count": 10,
   "metadata": {},
   "outputs": [
    {
     "name": "stdout",
     "output_type": "stream",
     "text": [
      "directory or file already exist!\n"
     ]
    }
   ],
   "source": [
    "%run application.py # Then input: mkdir /data/covid/test/"
   ]
  },
  {
   "cell_type": "markdown",
   "metadata": {},
   "source": [
    "* __ls__\n",
    "\n",
    "`ls /data/` can list the subdirectory and files:\n",
    "\n",
    "we can see `covid` directory as the output, because we just created in `/data/`."
   ]
  },
  {
   "cell_type": "code",
   "execution_count": 8,
   "metadata": {},
   "outputs": [
    {
     "name": "stdout",
     "output_type": "stream",
     "text": [
      "covid\n"
     ]
    }
   ],
   "source": [
    "%run application.py # Then input: ls /data/"
   ]
  },
  {
   "cell_type": "markdown",
   "metadata": {},
   "source": [
    "* __rm__\n",
    "\n",
    "`rm` can remove specific directory or files. If the file or directory does not exist, it will remind \"__This path does not exist!__\"\n",
    "\n",
    "For example, `rm /data/covid/test/`:"
   ]
  },
  {
   "cell_type": "code",
   "execution_count": 14,
   "metadata": {},
   "outputs": [
    {
     "name": "stdout",
     "output_type": "stream",
     "text": [
      "Delete successfully!\n"
     ]
    }
   ],
   "source": [
    "%run application.py # Then input: rm /data/covid/test/"
   ]
  },
  {
   "cell_type": "markdown",
   "metadata": {},
   "source": [
    "* __put__\n",
    "\n",
    "`put` can add a file from local (client) to the file system (just modify the meta currently). Pass two parameters to this command, the first is the local file location, and the second is the aim location on file system. Note if the aim path does not exist, it will create it automatically.\n",
    "\n",
    "For example: `put F:\\\\EDFS\\\\dataset\\\\owid-covid-data.csv /data/covid/2021/` "
   ]
  },
  {
   "cell_type": "code",
   "execution_count": 15,
   "metadata": {},
   "outputs": [
    {
     "name": "stdout",
     "output_type": "stream",
     "text": [
      "Add file successfully!\n"
     ]
    }
   ],
   "source": [
    "%run application.py  # Then input: put F:\\\\EDFS\\\\dataset\\\\owid-covid-data.csv /data/covid/2021/"
   ]
  },
  {
   "cell_type": "markdown",
   "metadata": {},
   "source": [
    "Because `put` method cannot operate on the real file system currently, so for the follow demonstration, I create the path and file manually.\n",
    "\n",
    "The file named `owid-covid-data.csv`, and the file path is same as the command above: `/data/covid/2021/owid-covid-data.csv`."
   ]
  },
  {
   "cell_type": "markdown",
   "metadata": {},
   "source": [
    "* __cat__\n",
    "\n",
    "This command will print the first 5 rows in the file.\n",
    "\n",
    "`cat /data/covid/2021/owid-covid-data.csv`"
   ]
  },
  {
   "cell_type": "code",
   "execution_count": 20,
   "metadata": {},
   "outputs": [
    {
     "name": "stdout",
     "output_type": "stream",
     "text": [
      "iso_code,continent,location,date,total_cases,new_cases,new_cases_smoothed,total_deaths,new_deaths,new_deaths_smoothed,total_cases_per_million,new_cases_per_million,new_cases_smoothed_per_million,total_deaths_per_million,new_deaths_per_million,new_deaths_smoothed_per_million,reproduction_rate,icu_patients,icu_patients_per_million,hosp_patients,hosp_patients_per_million,weekly_icu_admissions,weekly_icu_admissions_per_million,weekly_hosp_admissions,weekly_hosp_admissions_per_million,new_tests,total_tests,total_tests_per_thousand,new_tests_per_thousand,new_tests_smoothed,new_tests_smoothed_per_thousand,positive_rate,tests_per_case,tests_units,total_vaccinations,people_vaccinated,people_fully_vaccinated,total_boosters,new_vaccinations,new_vaccinations_smoothed,total_vaccinations_per_hundred,people_vaccinated_per_hundred,people_fully_vaccinated_per_hundred,total_boosters_per_hundred,new_vaccinations_smoothed_per_million,new_people_vaccinated_smoothed,new_people_vaccinated_smoothed_per_hundred,stringency_index,population,population_density,median_age,aged_65_older,aged_70_older,gdp_per_capita,extreme_poverty,cardiovasc_death_rate,diabetes_prevalence,female_smokers,male_smokers,handwashing_facilities,hospital_beds_per_thousand,life_expectancy,human_development_index,excess_mortality_cumulative_absolute,excess_mortality_cumulative,excess_mortality,excess_mortality_cumulative_per_million\n",
      "AFG,Asia,Afghanistan,2020-02-24,5.0,5.0,,,,,0.126,0.126,,,,,,,,,,,,,,,,,,,,,,,,,,,,,,,,,,,,8.33,39835428.0,54.422,18.6,2.581,1.337,1803.987,,597.029,9.59,,,37.746,0.5,64.83,0.511,,,,\n",
      "AFG,Asia,Afghanistan,2020-02-25,5.0,0.0,,,,,0.126,0.0,,,,,,,,,,,,,,,,,,,,,,,,,,,,,,,,,,,,8.33,39835428.0,54.422,18.6,2.581,1.337,1803.987,,597.029,9.59,,,37.746,0.5,64.83,0.511,,,,\n",
      "AFG,Asia,Afghanistan,2020-02-26,5.0,0.0,,,,,0.126,0.0,,,,,,,,,,,,,,,,,,,,,,,,,,,,,,,,,,,,8.33,39835428.0,54.422,18.6,2.581,1.337,1803.987,,597.029,9.59,,,37.746,0.5,64.83,0.511,,,,\n",
      "AFG,Asia,Afghanistan,2020-02-27,5.0,0.0,,,,,0.126,0.0,,,,,,,,,,,,,,,,,,,,,,,,,,,,,,,,,,,,8.33,39835428.0,54.422,18.6,2.581,1.337,1803.987,,597.029,9.59,,,37.746,0.5,64.83,0.511,,,,\n"
     ]
    }
   ],
   "source": [
    "%run application.py  # Then input: cat /data/covid/2021/owid-covid-data.csv"
   ]
  },
  {
   "cell_type": "markdown",
   "metadata": {},
   "source": [
    "* __getPartitionLocations__\n",
    "\n",
    "This command will print each partition location of a file.\n",
    "\n",
    "`getPartitionLocations /data/covid/2021/owid-covid-data.csv`"
   ]
  },
  {
   "cell_type": "code",
   "execution_count": 21,
   "metadata": {},
   "outputs": [
    {
     "name": "stdout",
     "output_type": "stream",
     "text": [
      "0 F:\\EDFS\\DFS\\0\\57d37a9a-5917-11ed-9c28-28d0eaca3617\n",
      "1 F:\\EDFS\\DFS\\0\\57d37a9b-5917-11ed-8a20-28d0eaca3617\n"
     ]
    }
   ],
   "source": [
    "%run application.py  # Then input: getPartitionLocations /data/covid/2021/owid-covid-data.csv"
   ]
  },
  {
   "cell_type": "markdown",
   "metadata": {},
   "source": [
    "## Map-Reduce"
   ]
  },
  {
   "cell_type": "markdown",
   "metadata": {},
   "source": [
    "For now, I finish a Map-Reduce function for searching data with spcific value. For example: search all patients' data whose iso_code is 'AFG`.\n",
    "\n",
    "This function will print every output location of each map process, and the final output location of reduce process.\n",
    "\n",
    "Users can also execute the function with command:\n",
    "`searchValue /data/covid/2021/owid-covid-data.csv iso_code AFG`"
   ]
  },
  {
   "cell_type": "code",
   "execution_count": 23,
   "metadata": {},
   "outputs": [
    {
     "name": "stdout",
     "output_type": "stream",
     "text": [
      "map 0execution completed!Output to: F:\\EDFS\\DFS\\0\\temp\\9cc09e71-5919-11ed-8c4a-28d0eaca3617\\0.part\n",
      "map 1execution completed!Output to: F:\\EDFS\\DFS\\0\\temp\\9cc09e71-5919-11ed-8c4a-28d0eaca3617\\1.part\n",
      "Reduce execution completed! Output to: F:\\EDFS\\DFS\\0\\result\\9cc09e71-5919-11ed-8c4a-28d0eaca3617\\result.csv\n",
      "Done! The result saved in: F:\\EDFS\\DFS\\0\\result\\9cc09e71-5919-11ed-8c4a-28d0eaca3617\\result.csv\n"
     ]
    }
   ],
   "source": [
    "%run application.py  # Then input: searchValue /data/covid/2021/owid-covid-data.csv iso_code AFG"
   ]
  },
  {
   "cell_type": "markdown",
   "metadata": {},
   "source": [
    "* __exit__\n",
    "\n",
    "Because I use loop to receive continuous command from users, so if user input `exit`, the programme will close.\n"
   ]
  },
  {
   "cell_type": "code",
   "execution_count": 25,
   "metadata": {},
   "outputs": [
    {
     "name": "stdout",
     "output_type": "stream",
     "text": [
      "Bye bye ~\n"
     ]
    }
   ],
   "source": [
    "%run application.py # Then input: exit"
   ]
  },
  {
   "cell_type": "markdown",
   "metadata": {},
   "source": [
    "# Next work"
   ]
  },
  {
   "cell_type": "markdown",
   "metadata": {},
   "source": [
    "The demonstration showed above is current project. \n",
    "\n",
    "Next, I will further complete and improve the project. Including fixing some bugs and developing some new features. The current plan is as follow:\n",
    "* New Map-Reduce function (search range data)\n",
    "* Exception handling\n",
    "* Code refactoring\n",
    "* New interactive interface (Jupyter)\n",
    "* Real file process"
   ]
  }
 ],
 "metadata": {
  "kernelspec": {
   "display_name": "Python 3.8.13 ('msc_project')",
   "language": "python",
   "name": "python3"
  },
  "language_info": {
   "codemirror_mode": {
    "name": "ipython",
    "version": 3
   },
   "file_extension": ".py",
   "mimetype": "text/x-python",
   "name": "python",
   "nbconvert_exporter": "python",
   "pygments_lexer": "ipython3",
   "version": "3.8.13"
  },
  "orig_nbformat": 4,
  "vscode": {
   "interpreter": {
    "hash": "e56015fb566b08f7af163d42c82cf08fa5d6db3fbaaffa0afaaff5a893fc0496"
   }
  }
 },
 "nbformat": 4,
 "nbformat_minor": 2
}
